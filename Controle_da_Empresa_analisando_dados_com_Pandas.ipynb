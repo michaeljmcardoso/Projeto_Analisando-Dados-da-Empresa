{
  "nbformat": 4,
  "nbformat_minor": 0,
  "metadata": {
    "colab": {
      "provenance": [],
      "mount_file_id": "1tQlhpfh9HgoQlt58adypAIWP9dq_LgTl",
      "authorship_tag": "ABX9TyN5Q4VAeDp+01BXkwZUQ0O1",
      "include_colab_link": true
    },
    "kernelspec": {
      "name": "python3",
      "display_name": "Python 3"
    },
    "language_info": {
      "name": "python"
    }
  },
  "cells": [
    {
      "cell_type": "markdown",
      "metadata": {
        "id": "view-in-github",
        "colab_type": "text"
      },
      "source": [
        "<a href=\"https://colab.research.google.com/github/michaeljmcardoso/Projeto_Analisando-Dados-da-Empresa/blob/main/Controle_da_Empresa_analisando_dados_com_Pandas.ipynb\" target=\"_parent\"><img src=\"https://colab.research.google.com/assets/colab-badge.svg\" alt=\"Open In Colab\"/></a>"
      ]
    },
    {
      "cell_type": "markdown",
      "source": [
        "# **Controle da Empresa: analisando dados com Pandas**\n",
        "\n",
        "by Michael J M Cardoso\n",
        "\n",
        "---\n",
        "\n",
        "<center><img width=\"75%\" src=\"https://img.freepik.com/vetores-gratis/logistica-armazem-interior-com-trabalhador-dirigindo-forklift-carregador-e-inspector-lista-conferindo-de-entregado-carga_33099-1639.jpg?w=826&t=st=1672169915~exp=1672170515~hmac=0d156b4f78402fc278e8888f20946e1719c48fade71132d574d0e3a019ca2830\n",
        "\"></center>\n",
        "\n",
        "Neste primeiro projeto do curso de Python o objetivo é botar em prática o que aprendemos e analisar dados de estoque de uma empresa, utilizando uma das bibliotecas mais populares quando se fala em Análise de Dados com Python: o Pandas. Veremos na prática o poder e quantidade de tempo e trabalho que podemos economizar em nossas rotinas diárias com Python.\n",
        "\n",
        "Para tanto, utilizaremos a planilha Controle da Empresa, que está disponível logo abaixo. A partir dos conteúdos estudados até o momento, faremos análises e plotaremos visualizações informativas.\n",
        "\n",
        "No primeiro momento, vamos conhecer um pouco da biblioteca Pandas e importá-la, logo em seguida montaremos nosso drive, onde se encontra armazenada nossa planilha a ser utilizada neste projeto.\n",
        "\n",
        "No segundo momento, veremos como importar uma planilha de Excel usando pandas do Python, acessar e visualizar uma aba específica da planilha, daremos um dica para descobrir o nome de todas as abas carregadas e aprenderemos como acessar uma coluna específica dentro de uma aba da planilha.\n",
        "\n",
        "Em terceiro, vamos aprender como manipular os valores das colunas e produzir algumas análises iniciais, bem como gerar visualizações informativas com os dados da planilha. Por fim, realizaremos algumas manipulações de data para dados organizados cronologicamente."
      ],
      "metadata": {
        "id": "ZgEpGb6s91YU"
      }
    },
    {
      "cell_type": "markdown",
      "source": [
        "### **Importando uma biblioteca para manipular planilhas**\n",
        "\n",
        "O [Pandas](https://pandas.pydata.org/docs/) é uma biblioteca *Open Source* de Python extremamente poderosa que é amplamente utilizada para análise de dados.Trata-se de uma ferramenta de análise e manipulação de dados de código aberto rápida, poderosa, flexível e fácil de usar,\n",
        "construída sobre a linguagem de programação [Python](https://www.python.org/).\n",
        "\n",
        "Uma de suas facilidades é a apresentação tabular (por tabelas) dos dados, que se parece muito com o formato de Excel que estamos já bem acostumados a utilizar. Essa familiaridade junto ao poder do Pandas o tornam uma ferramenta importantíssima no cotidiano de qualquer programador Python que trabalhe com dados.\n",
        "\n",
        "Como estamos falando de uma biblioteca, e não do Python nativo, é necessário primeiro importá-la. O que pode ser feito com o comando: `import`. Essse comando é utlilizado sempre que precisamos importar uma nova biblioteca.\n",
        "\n",
        "Porém pandas é um nome maior do que o necessário, o que pode atrapalhar nosso fluxo de trabalho. Por isso, ficou convencionado entre os programadores o uso de *aliases*, ou \"apelidos\" para as bibliotecas. Fazemos isso usando o `as`.\n",
        "\n",
        "Então quando digitamos:\n",
        "\n",
        "`import pandas as pd`\n",
        "\n",
        "Estamos dizendo para o Python que:\n",
        "\n",
        "`import` o Pandas `como` pd\n",
        "\n",
        "Ainda sobre *aliases*, é importante saber que podemos dar a eles o nome que quisermos, no entando o recomendável é usar o que já está convencionado entre a comunidade dos programadores. Isso vai facilitar a leitura do seu código para outras pessoas, e usando isso no seu, você se acostuma a ver isso nos códigos de outras pessoas, o que facilita seu entendimento e aprendizado.\n",
        "\n",
        "Agora, mão na massa. Vamos importar as bibliotecas necessárias e logo em seguida montar nosso drive, onde está armazenada nossa planilha objeto deste exercício."
      ],
      "metadata": {
        "id": "OJJ9MJMgGWwR"
      }
    },
    {
      "cell_type": "code",
      "execution_count": null,
      "metadata": {
        "id": "eFYIq_Q1cdiZ"
      },
      "outputs": [],
      "source": [
        "# importar as bibliotecas necessárias - pandas, matplotlib, google.colab drive\n",
        "import pandas as pd\n",
        "#import matplotlib.pyplot as plt\n",
        "from google.colab import drive"
      ]
    },
    {
      "cell_type": "markdown",
      "source": [
        "### **Montando o Drive**\n",
        "\n",
        "Logo que montamos o nosso drive, estamos na raiz dele. Observe sempre para o caminho que leva ao arquivo que você deseja acessar.\n",
        "\n",
        "É possível fazer o upload em qualquer lugar no seu drive. Sabendo o caminho, fica super de fácil acessar.\n",
        "\n",
        "Normalmente, a tela inicial do seu drive é `/content/gdrive/MyDrive`.\n",
        "\n",
        "Para este projeto, criei uma pasta denominada Relatorios, em que todos os arquivos de `relatórios` estão armazenados. Para acessar essa pasta, o caminho é:\n",
        "\n",
        "<center> /content/gdrive/MyDrive/Relatorios </center>"
      ],
      "metadata": {
        "id": "dGv86g9k8ua6"
      }
    },
    {
      "cell_type": "code",
      "source": [
        "# montar o drive\n",
        "drive.mount('/content/gdrive')"
      ],
      "metadata": {
        "colab": {
          "base_uri": "https://localhost:8080/"
        },
        "id": "Wgz7bzPwRDP7",
        "outputId": "833eaaf6-8c47-4068-c8fb-139189d7dfb4"
      },
      "execution_count": null,
      "outputs": [
        {
          "output_type": "stream",
          "name": "stdout",
          "text": [
            "Mounted at /content/gdrive\n"
          ]
        }
      ]
    },
    {
      "cell_type": "markdown",
      "source": [
        "### **Importando uma planilha de Excel usando a biblioteca pandas do Python**\n",
        "\n",
        "Agora que já importamos nosso pacote e montamos o drive, é hora de caregarmos nossa planilha para dentro do ambiente do Colab. Para isso vamos acessar o arquivo previamente salvo em nossa pasta do drive.\n",
        "\n",
        "Para ler arquivos excel vamos usar a função do pandas `pd.read_excel` e, ao carregar a planilha, vamos dar um nome a ela, associando o arquivo a uma variável.\n",
        "\n",
        "Para importar a planilha com o Pandas, vamos clicar com o botão direto no arquivo que se encontra dentro da pasta Relatorios do Drive (na aba à esquerda do navegador) e selecionar a opção *copy path* (copiar caminho) para que o pandas saiba onde está o arquivo. Também vamos passar o parâmetro `None`, para carregar todas as abas da planilha, conforme vemos abaixo."
      ],
      "metadata": {
        "id": "ViZ1_1ULOrIt"
      }
    },
    {
      "cell_type": "code",
      "source": [
        "# importar a planilha com pandas\n",
        "planilha = pd.read_excel('/content/gdrive/MyDrive/Relatorios/controle_da_empresa.xlsx', None)"
      ],
      "metadata": {
        "id": "2A1PxHildOxm"
      },
      "execution_count": null,
      "outputs": []
    },
    {
      "cell_type": "markdown",
      "source": [
        "A planilha foi carregada com sucesso. Agora vamos executar a célula com o nome da variável **planilha** e observar que todas as abas foram carregadas:"
      ],
      "metadata": {
        "id": "qEZGxyMMqQUd"
      }
    },
    {
      "cell_type": "code",
      "source": [
        "# executando a variável planilha\n",
        "planilha"
      ],
      "metadata": {
        "colab": {
          "base_uri": "https://localhost:8080/"
        },
        "id": "-q0yH4Cvqhi9",
        "outputId": "c56cfbae-c167-4259-c4a1-d253773077db"
      },
      "execution_count": null,
      "outputs": [
        {
          "output_type": "execute_result",
          "data": {
            "text/plain": [
              "{'Estoque':    Código                 Item  Estoque Mínimo  Custo da Unidade  \\\n",
              " 0  SIG001     Canon 6D Mark II               5              8500   \n",
              " 1  SIG002    Canon 5D Mark III               2              9500   \n",
              " 2  SIG003     Lente 85mm f/1.4               8              7000   \n",
              " 3  SIG004     Lente 50mm f/1.4               8               900   \n",
              " 4  SIG005  Lente 16-35mm f/2.8               8              6120   \n",
              " 5  SIG006     Filtro ND 2 Stop               2               450   \n",
              " 6  SIG007     Filtro ND 3 Stop               2               450   \n",
              " 7  SIG008     Filtro ND 5 Stop               2               450   \n",
              " 8  SIG009      DJI Mavic Air 2               1             10890   \n",
              " 9  SIG010          DJI Ronin-S               1              3980   \n",
              " \n",
              "    Preço da Unidade Unidade de Medida  Estoque Atual  \n",
              " 0              8500           Unidade             13  \n",
              " 1             13650           Unidade              1  \n",
              " 2              9989           Unidade              6  \n",
              " 3              1649           Unidade             10  \n",
              " 4              8997           Unidade             11  \n",
              " 5              1220           Unidade             20  \n",
              " 6              1220           Unidade             21  \n",
              " 7              1220           Unidade             18  \n",
              " 8             13580           Unidade              2  \n",
              " 9              5790           Unidade              1  ,\n",
              " 'Vendas':    Data da Venda                 Item  Quantidade  Vendedor  Preço Unitário  \\\n",
              " 0     2020-01-02     Lente 50mm f/1.4           2    Carlos            1649   \n",
              " 1     2020-01-02     Filtro ND 5 Stop           2    Raquel            1220   \n",
              " 2     2020-01-03     Filtro ND 5 Stop           2    Raquel            1220   \n",
              " 3     2020-01-03  Lente 16-35mm f/2.8           2    Carlos            8997   \n",
              " 4     2020-01-04  Lente 16-35mm f/2.8           2  Fernanda            8997   \n",
              " ..           ...                  ...         ...       ...             ...   \n",
              " 85    2020-01-29     Filtro ND 5 Stop           2      Theo            1220   \n",
              " 86    2020-01-29  Lente 16-35mm f/2.8           2      Theo            8997   \n",
              " 87    2020-01-29     Filtro ND 2 Stop           1  Fernanda            1220   \n",
              " 88    2020-01-30     Filtro ND 3 Stop           2  Fernanda            1220   \n",
              " 89    2020-01-30     Filtro ND 5 Stop           2    Raquel            1220   \n",
              " \n",
              "     Total de Vendas  \n",
              " 0              3298  \n",
              " 1              2440  \n",
              " 2              2440  \n",
              " 3             17994  \n",
              " 4             17994  \n",
              " ..              ...  \n",
              " 85             2440  \n",
              " 86            17994  \n",
              " 87             1220  \n",
              " 88             2440  \n",
              " 89             2440  \n",
              " \n",
              " [90 rows x 6 columns],\n",
              " 'Funcionários':   Funcionário  Total de Vendas\n",
              " 0      Carlos           205301\n",
              " 1    Fernanda           204982\n",
              " 2        Theo           272816\n",
              " 3      Raquel           172700}"
            ]
          },
          "metadata": {},
          "execution_count": 4
        }
      ]
    },
    {
      "cell_type": "markdown",
      "source": [
        "### **Acessando uma aba específica da planilha**\n",
        "\n",
        "Numa planilha com várias abas, tal como esta que estamos utilizando, podemos carregar apenas uma aba, `Estoque`, por exemplo, executando o comando `planilha[\"Estoque\"]`. Para tanto, vamos colocar entre aspas, dentro dos colchetes, o nome da aba que desejamos visualizar.\n",
        "\n",
        "Lembre-se que o Python é *case sensitive*, isto é, ele é sensível à variação entre maiúsculas e minúsculas. Desse modo, para o Python, estoque é diferente de Estoque. Por isso, devemos escrever o nome exatamene da mesma forma que está na planilha para evitar erro."
      ],
      "metadata": {
        "id": "ubJxKj6mNGVD"
      }
    },
    {
      "cell_type": "code",
      "source": [
        "# visualizando a aba Estoque\n",
        "planilha[\"Estoque\"]"
      ],
      "metadata": {
        "colab": {
          "base_uri": "https://localhost:8080/",
          "height": 363
        },
        "id": "54E5GyX3MzJz",
        "outputId": "7b9a1a45-16c7-4fd9-d106-ee3af6eaf01d"
      },
      "execution_count": null,
      "outputs": [
        {
          "output_type": "execute_result",
          "data": {
            "text/plain": [
              "   Código                 Item  Estoque Mínimo  Custo da Unidade  \\\n",
              "0  SIG001     Canon 6D Mark II               5              8500   \n",
              "1  SIG002    Canon 5D Mark III               2              9500   \n",
              "2  SIG003     Lente 85mm f/1.4               8              7000   \n",
              "3  SIG004     Lente 50mm f/1.4               8               900   \n",
              "4  SIG005  Lente 16-35mm f/2.8               8              6120   \n",
              "5  SIG006     Filtro ND 2 Stop               2               450   \n",
              "6  SIG007     Filtro ND 3 Stop               2               450   \n",
              "7  SIG008     Filtro ND 5 Stop               2               450   \n",
              "8  SIG009      DJI Mavic Air 2               1             10890   \n",
              "9  SIG010          DJI Ronin-S               1              3980   \n",
              "\n",
              "   Preço da Unidade Unidade de Medida  Estoque Atual  \n",
              "0              8500           Unidade             13  \n",
              "1             13650           Unidade              1  \n",
              "2              9989           Unidade              6  \n",
              "3              1649           Unidade             10  \n",
              "4              8997           Unidade             11  \n",
              "5              1220           Unidade             20  \n",
              "6              1220           Unidade             21  \n",
              "7              1220           Unidade             18  \n",
              "8             13580           Unidade              2  \n",
              "9              5790           Unidade              1  "
            ],
            "text/html": [
              "\n",
              "  <div id=\"df-db928fbc-7f8d-4c82-8e55-2764c279eb8b\">\n",
              "    <div class=\"colab-df-container\">\n",
              "      <div>\n",
              "<style scoped>\n",
              "    .dataframe tbody tr th:only-of-type {\n",
              "        vertical-align: middle;\n",
              "    }\n",
              "\n",
              "    .dataframe tbody tr th {\n",
              "        vertical-align: top;\n",
              "    }\n",
              "\n",
              "    .dataframe thead th {\n",
              "        text-align: right;\n",
              "    }\n",
              "</style>\n",
              "<table border=\"1\" class=\"dataframe\">\n",
              "  <thead>\n",
              "    <tr style=\"text-align: right;\">\n",
              "      <th></th>\n",
              "      <th>Código</th>\n",
              "      <th>Item</th>\n",
              "      <th>Estoque Mínimo</th>\n",
              "      <th>Custo da Unidade</th>\n",
              "      <th>Preço da Unidade</th>\n",
              "      <th>Unidade de Medida</th>\n",
              "      <th>Estoque Atual</th>\n",
              "    </tr>\n",
              "  </thead>\n",
              "  <tbody>\n",
              "    <tr>\n",
              "      <th>0</th>\n",
              "      <td>SIG001</td>\n",
              "      <td>Canon 6D Mark II</td>\n",
              "      <td>5</td>\n",
              "      <td>8500</td>\n",
              "      <td>8500</td>\n",
              "      <td>Unidade</td>\n",
              "      <td>13</td>\n",
              "    </tr>\n",
              "    <tr>\n",
              "      <th>1</th>\n",
              "      <td>SIG002</td>\n",
              "      <td>Canon 5D Mark III</td>\n",
              "      <td>2</td>\n",
              "      <td>9500</td>\n",
              "      <td>13650</td>\n",
              "      <td>Unidade</td>\n",
              "      <td>1</td>\n",
              "    </tr>\n",
              "    <tr>\n",
              "      <th>2</th>\n",
              "      <td>SIG003</td>\n",
              "      <td>Lente 85mm f/1.4</td>\n",
              "      <td>8</td>\n",
              "      <td>7000</td>\n",
              "      <td>9989</td>\n",
              "      <td>Unidade</td>\n",
              "      <td>6</td>\n",
              "    </tr>\n",
              "    <tr>\n",
              "      <th>3</th>\n",
              "      <td>SIG004</td>\n",
              "      <td>Lente 50mm f/1.4</td>\n",
              "      <td>8</td>\n",
              "      <td>900</td>\n",
              "      <td>1649</td>\n",
              "      <td>Unidade</td>\n",
              "      <td>10</td>\n",
              "    </tr>\n",
              "    <tr>\n",
              "      <th>4</th>\n",
              "      <td>SIG005</td>\n",
              "      <td>Lente 16-35mm f/2.8</td>\n",
              "      <td>8</td>\n",
              "      <td>6120</td>\n",
              "      <td>8997</td>\n",
              "      <td>Unidade</td>\n",
              "      <td>11</td>\n",
              "    </tr>\n",
              "    <tr>\n",
              "      <th>5</th>\n",
              "      <td>SIG006</td>\n",
              "      <td>Filtro ND 2 Stop</td>\n",
              "      <td>2</td>\n",
              "      <td>450</td>\n",
              "      <td>1220</td>\n",
              "      <td>Unidade</td>\n",
              "      <td>20</td>\n",
              "    </tr>\n",
              "    <tr>\n",
              "      <th>6</th>\n",
              "      <td>SIG007</td>\n",
              "      <td>Filtro ND 3 Stop</td>\n",
              "      <td>2</td>\n",
              "      <td>450</td>\n",
              "      <td>1220</td>\n",
              "      <td>Unidade</td>\n",
              "      <td>21</td>\n",
              "    </tr>\n",
              "    <tr>\n",
              "      <th>7</th>\n",
              "      <td>SIG008</td>\n",
              "      <td>Filtro ND 5 Stop</td>\n",
              "      <td>2</td>\n",
              "      <td>450</td>\n",
              "      <td>1220</td>\n",
              "      <td>Unidade</td>\n",
              "      <td>18</td>\n",
              "    </tr>\n",
              "    <tr>\n",
              "      <th>8</th>\n",
              "      <td>SIG009</td>\n",
              "      <td>DJI Mavic Air 2</td>\n",
              "      <td>1</td>\n",
              "      <td>10890</td>\n",
              "      <td>13580</td>\n",
              "      <td>Unidade</td>\n",
              "      <td>2</td>\n",
              "    </tr>\n",
              "    <tr>\n",
              "      <th>9</th>\n",
              "      <td>SIG010</td>\n",
              "      <td>DJI Ronin-S</td>\n",
              "      <td>1</td>\n",
              "      <td>3980</td>\n",
              "      <td>5790</td>\n",
              "      <td>Unidade</td>\n",
              "      <td>1</td>\n",
              "    </tr>\n",
              "  </tbody>\n",
              "</table>\n",
              "</div>\n",
              "      <button class=\"colab-df-convert\" onclick=\"convertToInteractive('df-db928fbc-7f8d-4c82-8e55-2764c279eb8b')\"\n",
              "              title=\"Convert this dataframe to an interactive table.\"\n",
              "              style=\"display:none;\">\n",
              "        \n",
              "  <svg xmlns=\"http://www.w3.org/2000/svg\" height=\"24px\"viewBox=\"0 0 24 24\"\n",
              "       width=\"24px\">\n",
              "    <path d=\"M0 0h24v24H0V0z\" fill=\"none\"/>\n",
              "    <path d=\"M18.56 5.44l.94 2.06.94-2.06 2.06-.94-2.06-.94-.94-2.06-.94 2.06-2.06.94zm-11 1L8.5 8.5l.94-2.06 2.06-.94-2.06-.94L8.5 2.5l-.94 2.06-2.06.94zm10 10l.94 2.06.94-2.06 2.06-.94-2.06-.94-.94-2.06-.94 2.06-2.06.94z\"/><path d=\"M17.41 7.96l-1.37-1.37c-.4-.4-.92-.59-1.43-.59-.52 0-1.04.2-1.43.59L10.3 9.45l-7.72 7.72c-.78.78-.78 2.05 0 2.83L4 21.41c.39.39.9.59 1.41.59.51 0 1.02-.2 1.41-.59l7.78-7.78 2.81-2.81c.8-.78.8-2.07 0-2.86zM5.41 20L4 18.59l7.72-7.72 1.47 1.35L5.41 20z\"/>\n",
              "  </svg>\n",
              "      </button>\n",
              "      \n",
              "  <style>\n",
              "    .colab-df-container {\n",
              "      display:flex;\n",
              "      flex-wrap:wrap;\n",
              "      gap: 12px;\n",
              "    }\n",
              "\n",
              "    .colab-df-convert {\n",
              "      background-color: #E8F0FE;\n",
              "      border: none;\n",
              "      border-radius: 50%;\n",
              "      cursor: pointer;\n",
              "      display: none;\n",
              "      fill: #1967D2;\n",
              "      height: 32px;\n",
              "      padding: 0 0 0 0;\n",
              "      width: 32px;\n",
              "    }\n",
              "\n",
              "    .colab-df-convert:hover {\n",
              "      background-color: #E2EBFA;\n",
              "      box-shadow: 0px 1px 2px rgba(60, 64, 67, 0.3), 0px 1px 3px 1px rgba(60, 64, 67, 0.15);\n",
              "      fill: #174EA6;\n",
              "    }\n",
              "\n",
              "    [theme=dark] .colab-df-convert {\n",
              "      background-color: #3B4455;\n",
              "      fill: #D2E3FC;\n",
              "    }\n",
              "\n",
              "    [theme=dark] .colab-df-convert:hover {\n",
              "      background-color: #434B5C;\n",
              "      box-shadow: 0px 1px 3px 1px rgba(0, 0, 0, 0.15);\n",
              "      filter: drop-shadow(0px 1px 2px rgba(0, 0, 0, 0.3));\n",
              "      fill: #FFFFFF;\n",
              "    }\n",
              "  </style>\n",
              "\n",
              "      <script>\n",
              "        const buttonEl =\n",
              "          document.querySelector('#df-db928fbc-7f8d-4c82-8e55-2764c279eb8b button.colab-df-convert');\n",
              "        buttonEl.style.display =\n",
              "          google.colab.kernel.accessAllowed ? 'block' : 'none';\n",
              "\n",
              "        async function convertToInteractive(key) {\n",
              "          const element = document.querySelector('#df-db928fbc-7f8d-4c82-8e55-2764c279eb8b');\n",
              "          const dataTable =\n",
              "            await google.colab.kernel.invokeFunction('convertToInteractive',\n",
              "                                                     [key], {});\n",
              "          if (!dataTable) return;\n",
              "\n",
              "          const docLinkHtml = 'Like what you see? Visit the ' +\n",
              "            '<a target=\"_blank\" href=https://colab.research.google.com/notebooks/data_table.ipynb>data table notebook</a>'\n",
              "            + ' to learn more about interactive tables.';\n",
              "          element.innerHTML = '';\n",
              "          dataTable['output_type'] = 'display_data';\n",
              "          await google.colab.output.renderOutput(dataTable, element);\n",
              "          const docLink = document.createElement('div');\n",
              "          docLink.innerHTML = docLinkHtml;\n",
              "          element.appendChild(docLink);\n",
              "        }\n",
              "      </script>\n",
              "    </div>\n",
              "  </div>\n",
              "  "
            ]
          },
          "metadata": {},
          "execution_count": 5
        }
      ]
    },
    {
      "cell_type": "markdown",
      "source": [
        "Agora que aprendemos como carregar abas específicas, podemos dar uma olhada em outras abas da planilha, como por exemplo, a aba `Vendas`.\n",
        "Conforme o exemplo anterior, para carregar a aba `Vendas`, digitamos `planilha[\"Vendas\"]`. Sempre lembrando que o Python diferencia maiúsculas e minúsculas."
      ],
      "metadata": {
        "id": "-foDhjzvOagk"
      }
    },
    {
      "cell_type": "code",
      "source": [
        "# visualizando a aba Vendas\n",
        "planilha[\"Vendas\"]"
      ],
      "metadata": {
        "colab": {
          "base_uri": "https://localhost:8080/",
          "height": 424
        },
        "id": "pNXr2EaaO5HG",
        "outputId": "40ffa5bb-776d-48fc-ad8d-cc008e8235e0"
      },
      "execution_count": null,
      "outputs": [
        {
          "output_type": "execute_result",
          "data": {
            "text/plain": [
              "   Data da Venda                 Item  Quantidade  Vendedor  Preço Unitário  \\\n",
              "0     2020-01-02     Lente 50mm f/1.4           2    Carlos            1649   \n",
              "1     2020-01-02     Filtro ND 5 Stop           2    Raquel            1220   \n",
              "2     2020-01-03     Filtro ND 5 Stop           2    Raquel            1220   \n",
              "3     2020-01-03  Lente 16-35mm f/2.8           2    Carlos            8997   \n",
              "4     2020-01-04  Lente 16-35mm f/2.8           2  Fernanda            8997   \n",
              "..           ...                  ...         ...       ...             ...   \n",
              "85    2020-01-29     Filtro ND 5 Stop           2      Theo            1220   \n",
              "86    2020-01-29  Lente 16-35mm f/2.8           2      Theo            8997   \n",
              "87    2020-01-29     Filtro ND 2 Stop           1  Fernanda            1220   \n",
              "88    2020-01-30     Filtro ND 3 Stop           2  Fernanda            1220   \n",
              "89    2020-01-30     Filtro ND 5 Stop           2    Raquel            1220   \n",
              "\n",
              "    Total de Vendas  \n",
              "0              3298  \n",
              "1              2440  \n",
              "2              2440  \n",
              "3             17994  \n",
              "4             17994  \n",
              "..              ...  \n",
              "85             2440  \n",
              "86            17994  \n",
              "87             1220  \n",
              "88             2440  \n",
              "89             2440  \n",
              "\n",
              "[90 rows x 6 columns]"
            ],
            "text/html": [
              "\n",
              "  <div id=\"df-04540ce2-9545-47b0-b2c2-ea46b4f72642\">\n",
              "    <div class=\"colab-df-container\">\n",
              "      <div>\n",
              "<style scoped>\n",
              "    .dataframe tbody tr th:only-of-type {\n",
              "        vertical-align: middle;\n",
              "    }\n",
              "\n",
              "    .dataframe tbody tr th {\n",
              "        vertical-align: top;\n",
              "    }\n",
              "\n",
              "    .dataframe thead th {\n",
              "        text-align: right;\n",
              "    }\n",
              "</style>\n",
              "<table border=\"1\" class=\"dataframe\">\n",
              "  <thead>\n",
              "    <tr style=\"text-align: right;\">\n",
              "      <th></th>\n",
              "      <th>Data da Venda</th>\n",
              "      <th>Item</th>\n",
              "      <th>Quantidade</th>\n",
              "      <th>Vendedor</th>\n",
              "      <th>Preço Unitário</th>\n",
              "      <th>Total de Vendas</th>\n",
              "    </tr>\n",
              "  </thead>\n",
              "  <tbody>\n",
              "    <tr>\n",
              "      <th>0</th>\n",
              "      <td>2020-01-02</td>\n",
              "      <td>Lente 50mm f/1.4</td>\n",
              "      <td>2</td>\n",
              "      <td>Carlos</td>\n",
              "      <td>1649</td>\n",
              "      <td>3298</td>\n",
              "    </tr>\n",
              "    <tr>\n",
              "      <th>1</th>\n",
              "      <td>2020-01-02</td>\n",
              "      <td>Filtro ND 5 Stop</td>\n",
              "      <td>2</td>\n",
              "      <td>Raquel</td>\n",
              "      <td>1220</td>\n",
              "      <td>2440</td>\n",
              "    </tr>\n",
              "    <tr>\n",
              "      <th>2</th>\n",
              "      <td>2020-01-03</td>\n",
              "      <td>Filtro ND 5 Stop</td>\n",
              "      <td>2</td>\n",
              "      <td>Raquel</td>\n",
              "      <td>1220</td>\n",
              "      <td>2440</td>\n",
              "    </tr>\n",
              "    <tr>\n",
              "      <th>3</th>\n",
              "      <td>2020-01-03</td>\n",
              "      <td>Lente 16-35mm f/2.8</td>\n",
              "      <td>2</td>\n",
              "      <td>Carlos</td>\n",
              "      <td>8997</td>\n",
              "      <td>17994</td>\n",
              "    </tr>\n",
              "    <tr>\n",
              "      <th>4</th>\n",
              "      <td>2020-01-04</td>\n",
              "      <td>Lente 16-35mm f/2.8</td>\n",
              "      <td>2</td>\n",
              "      <td>Fernanda</td>\n",
              "      <td>8997</td>\n",
              "      <td>17994</td>\n",
              "    </tr>\n",
              "    <tr>\n",
              "      <th>...</th>\n",
              "      <td>...</td>\n",
              "      <td>...</td>\n",
              "      <td>...</td>\n",
              "      <td>...</td>\n",
              "      <td>...</td>\n",
              "      <td>...</td>\n",
              "    </tr>\n",
              "    <tr>\n",
              "      <th>85</th>\n",
              "      <td>2020-01-29</td>\n",
              "      <td>Filtro ND 5 Stop</td>\n",
              "      <td>2</td>\n",
              "      <td>Theo</td>\n",
              "      <td>1220</td>\n",
              "      <td>2440</td>\n",
              "    </tr>\n",
              "    <tr>\n",
              "      <th>86</th>\n",
              "      <td>2020-01-29</td>\n",
              "      <td>Lente 16-35mm f/2.8</td>\n",
              "      <td>2</td>\n",
              "      <td>Theo</td>\n",
              "      <td>8997</td>\n",
              "      <td>17994</td>\n",
              "    </tr>\n",
              "    <tr>\n",
              "      <th>87</th>\n",
              "      <td>2020-01-29</td>\n",
              "      <td>Filtro ND 2 Stop</td>\n",
              "      <td>1</td>\n",
              "      <td>Fernanda</td>\n",
              "      <td>1220</td>\n",
              "      <td>1220</td>\n",
              "    </tr>\n",
              "    <tr>\n",
              "      <th>88</th>\n",
              "      <td>2020-01-30</td>\n",
              "      <td>Filtro ND 3 Stop</td>\n",
              "      <td>2</td>\n",
              "      <td>Fernanda</td>\n",
              "      <td>1220</td>\n",
              "      <td>2440</td>\n",
              "    </tr>\n",
              "    <tr>\n",
              "      <th>89</th>\n",
              "      <td>2020-01-30</td>\n",
              "      <td>Filtro ND 5 Stop</td>\n",
              "      <td>2</td>\n",
              "      <td>Raquel</td>\n",
              "      <td>1220</td>\n",
              "      <td>2440</td>\n",
              "    </tr>\n",
              "  </tbody>\n",
              "</table>\n",
              "<p>90 rows × 6 columns</p>\n",
              "</div>\n",
              "      <button class=\"colab-df-convert\" onclick=\"convertToInteractive('df-04540ce2-9545-47b0-b2c2-ea46b4f72642')\"\n",
              "              title=\"Convert this dataframe to an interactive table.\"\n",
              "              style=\"display:none;\">\n",
              "        \n",
              "  <svg xmlns=\"http://www.w3.org/2000/svg\" height=\"24px\"viewBox=\"0 0 24 24\"\n",
              "       width=\"24px\">\n",
              "    <path d=\"M0 0h24v24H0V0z\" fill=\"none\"/>\n",
              "    <path d=\"M18.56 5.44l.94 2.06.94-2.06 2.06-.94-2.06-.94-.94-2.06-.94 2.06-2.06.94zm-11 1L8.5 8.5l.94-2.06 2.06-.94-2.06-.94L8.5 2.5l-.94 2.06-2.06.94zm10 10l.94 2.06.94-2.06 2.06-.94-2.06-.94-.94-2.06-.94 2.06-2.06.94z\"/><path d=\"M17.41 7.96l-1.37-1.37c-.4-.4-.92-.59-1.43-.59-.52 0-1.04.2-1.43.59L10.3 9.45l-7.72 7.72c-.78.78-.78 2.05 0 2.83L4 21.41c.39.39.9.59 1.41.59.51 0 1.02-.2 1.41-.59l7.78-7.78 2.81-2.81c.8-.78.8-2.07 0-2.86zM5.41 20L4 18.59l7.72-7.72 1.47 1.35L5.41 20z\"/>\n",
              "  </svg>\n",
              "      </button>\n",
              "      \n",
              "  <style>\n",
              "    .colab-df-container {\n",
              "      display:flex;\n",
              "      flex-wrap:wrap;\n",
              "      gap: 12px;\n",
              "    }\n",
              "\n",
              "    .colab-df-convert {\n",
              "      background-color: #E8F0FE;\n",
              "      border: none;\n",
              "      border-radius: 50%;\n",
              "      cursor: pointer;\n",
              "      display: none;\n",
              "      fill: #1967D2;\n",
              "      height: 32px;\n",
              "      padding: 0 0 0 0;\n",
              "      width: 32px;\n",
              "    }\n",
              "\n",
              "    .colab-df-convert:hover {\n",
              "      background-color: #E2EBFA;\n",
              "      box-shadow: 0px 1px 2px rgba(60, 64, 67, 0.3), 0px 1px 3px 1px rgba(60, 64, 67, 0.15);\n",
              "      fill: #174EA6;\n",
              "    }\n",
              "\n",
              "    [theme=dark] .colab-df-convert {\n",
              "      background-color: #3B4455;\n",
              "      fill: #D2E3FC;\n",
              "    }\n",
              "\n",
              "    [theme=dark] .colab-df-convert:hover {\n",
              "      background-color: #434B5C;\n",
              "      box-shadow: 0px 1px 3px 1px rgba(0, 0, 0, 0.15);\n",
              "      filter: drop-shadow(0px 1px 2px rgba(0, 0, 0, 0.3));\n",
              "      fill: #FFFFFF;\n",
              "    }\n",
              "  </style>\n",
              "\n",
              "      <script>\n",
              "        const buttonEl =\n",
              "          document.querySelector('#df-04540ce2-9545-47b0-b2c2-ea46b4f72642 button.colab-df-convert');\n",
              "        buttonEl.style.display =\n",
              "          google.colab.kernel.accessAllowed ? 'block' : 'none';\n",
              "\n",
              "        async function convertToInteractive(key) {\n",
              "          const element = document.querySelector('#df-04540ce2-9545-47b0-b2c2-ea46b4f72642');\n",
              "          const dataTable =\n",
              "            await google.colab.kernel.invokeFunction('convertToInteractive',\n",
              "                                                     [key], {});\n",
              "          if (!dataTable) return;\n",
              "\n",
              "          const docLinkHtml = 'Like what you see? Visit the ' +\n",
              "            '<a target=\"_blank\" href=https://colab.research.google.com/notebooks/data_table.ipynb>data table notebook</a>'\n",
              "            + ' to learn more about interactive tables.';\n",
              "          element.innerHTML = '';\n",
              "          dataTable['output_type'] = 'display_data';\n",
              "          await google.colab.output.renderOutput(dataTable, element);\n",
              "          const docLink = document.createElement('div');\n",
              "          docLink.innerHTML = docLinkHtml;\n",
              "          element.appendChild(docLink);\n",
              "        }\n",
              "      </script>\n",
              "    </div>\n",
              "  </div>\n",
              "  "
            ]
          },
          "metadata": {},
          "execution_count": 6
        }
      ]
    },
    {
      "cell_type": "markdown",
      "source": [
        "Outro aspecto bastante interessante é visualizar as abas existentes na planilha carregada. Isso é essencial ao carregar um arquivo que você não conhece, ou noutro caso, garantir que um arquivo que você já conhece, foi devidadente carregado. \n",
        "\n",
        "Uma dica para descobrir o nome de todas as abas carregadas, é executamos o seguinte comando: `planilha.keys()`. Assim, o Python retornará um dicionário com as chaves, em que cada uma corresponde a uma aba da planilha. Vejamos."
      ],
      "metadata": {
        "id": "iqvyyfUOQKEF"
      }
    },
    {
      "cell_type": "code",
      "source": [
        "# verificando as abas da planilha\n",
        "planilha.keys()"
      ],
      "metadata": {
        "colab": {
          "base_uri": "https://localhost:8080/"
        },
        "id": "I--LnrrARGuQ",
        "outputId": "3a73b1b4-3d08-4807-d1b6-b13bfdbe94b1"
      },
      "execution_count": null,
      "outputs": [
        {
          "output_type": "execute_result",
          "data": {
            "text/plain": [
              "dict_keys(['Estoque', 'Vendas', 'Funcionários'])"
            ]
          },
          "metadata": {},
          "execution_count": 7
        }
      ]
    },
    {
      "cell_type": "markdown",
      "source": [
        "### **Acessando uma coluna específica da planilha**\n",
        "\n",
        "Até aqui verificamos toda a planilha e entramos em diferentes abas, porém como fazemos para verificar elementos ainda mais específicos? Como faríamos se precisássemos acessar uma coluna dentro de uma das abas?\n",
        "\n",
        "Para fazer isso, vamos acessar a coluna `Total de Vendas` da aba `Vendas` como exemplo.\n",
        "\n",
        "Basta executar `planilha['aba']['coluna']`, substituindo nos colchetes, 'aba' pelo nome da aba, e 'coluna' pelo nome da coluna.\n",
        "\n",
        "Vejamos:"
      ],
      "metadata": {
        "id": "QBLmhRbyT4zS"
      }
    },
    {
      "cell_type": "code",
      "source": [
        "# acessando uma coluna dentro de uma aba\n",
        "planilha[\"Vendas\"][\"Total de Vendas\"] "
      ],
      "metadata": {
        "colab": {
          "base_uri": "https://localhost:8080/"
        },
        "id": "q19GYXa3VNY7",
        "outputId": "303af34c-80f5-4b91-baf2-7545d5efadae"
      },
      "execution_count": null,
      "outputs": [
        {
          "output_type": "execute_result",
          "data": {
            "text/plain": [
              "0      3298\n",
              "1      2440\n",
              "2      2440\n",
              "3     17994\n",
              "4     17994\n",
              "      ...  \n",
              "85     2440\n",
              "86    17994\n",
              "87     1220\n",
              "88     2440\n",
              "89     2440\n",
              "Name: Total de Vendas, Length: 90, dtype: int64"
            ]
          },
          "metadata": {},
          "execution_count": 8
        }
      ]
    },
    {
      "cell_type": "markdown",
      "source": [
        "Ter acesso as colunas é bem legal, contudo podemos ir mais adiante, e conseguir manipular esses valores. Para somar todos os valores, por exemplo, utilizamos o comando `sum` (soma).  Para tanto, vamos executar o mesmo comando anterior, incluindo o método `.sum()` ao final: `planilha['aba']['coluna'].sum()`.\n",
        "\n",
        "Assim, descobrimos que o total de vendas foi de 855.799.\n"
      ],
      "metadata": {
        "id": "A8ZvoBUoV20p"
      }
    },
    {
      "cell_type": "code",
      "source": [
        "# somando os valores de uma coluna\n",
        "planilha[\"Vendas\"][\"Total de Vendas\"].sum()"
      ],
      "metadata": {
        "colab": {
          "base_uri": "https://localhost:8080/"
        },
        "id": "cHdET3CfWex_",
        "outputId": "634bc3cb-d4c3-4c36-c05e-dc72dd5adebc"
      },
      "execution_count": null,
      "outputs": [
        {
          "output_type": "execute_result",
          "data": {
            "text/plain": [
              "855799"
            ]
          },
          "metadata": {},
          "execution_count": 9
        }
      ]
    },
    {
      "cell_type": "markdown",
      "source": [
        "Outro dado fácil de calcular com Python é a média aritmética dos valores de uma coluna, parra isso basta usarmos o comando `mean` (média). Seguindo os exemplos anteriores, vamos repetir o comando e incluir ao final o método `.mean()`: `planilha['aba']['coluna'].mean()`\n",
        "\n",
        "Assim, descobrimos que a média foi de 9508.88, com arredondamento para duas casas decimais, com auxílio do método `.round(2)`."
      ],
      "metadata": {
        "id": "E-SHxBAAYKKG"
      }
    },
    {
      "cell_type": "code",
      "source": [
        "# calculando a média aritmética dos valores de uma coluna\n",
        "planilha[\"Vendas\"][\"Total de Vendas\"].mean().round(2)"
      ],
      "metadata": {
        "colab": {
          "base_uri": "https://localhost:8080/"
        },
        "id": "GhNbuvedYoVs",
        "outputId": "6c69ffe9-855c-4284-8147-4409de123baa"
      },
      "execution_count": null,
      "outputs": [
        {
          "output_type": "execute_result",
          "data": {
            "text/plain": [
              "9508.88"
            ]
          },
          "metadata": {},
          "execution_count": 10
        }
      ]
    },
    {
      "cell_type": "markdown",
      "source": [
        "Numa análise estatística, é de suma importância compreender a distribuição dos dados que estamos trabalhando, e um dos aspectos que precisamos analisar é o **desvio padrão**.\n",
        "\n",
        "O [desvio padrão](https://www.todamateria.com.br/desvio-padrao/) é uma medida que expressa o grau de dispersão de um conjunto de dados. Ou seja, o desvio padrão indica o quanto um conjunto de dados é uniforme. Quanto mais próximo de 0 for o desvio padrão, mais homogêneo são os dados.\n",
        "\n",
        "Em síntese, o desvio padrão é o quanto os valores analisados variam da média do conjunto. \n",
        "\n",
        "Com Python, encontrar esse valor é muito fácil. Basta usar o comando `std`, que vem de *Standard Deviation*, termo em inglês para desvio padrão.\n",
        "\n",
        "Seguindo nosso padrão dos exemplos anteriores, vamos apenas incluir o método `.std()` ao final: `planilha['aba']['coluna'].std()`. \n",
        "\n",
        "Dessa forma, descobrimos que o desvio padrão, com arredondamento para duas casas decimais, foi de 8509.91."
      ],
      "metadata": {
        "id": "pgGmst8ZaWC0"
      }
    },
    {
      "cell_type": "code",
      "source": [
        "# calculando o desvio padrão de uma coluna\n",
        "planilha['Vendas']['Total de Vendas'].std().round(2)"
      ],
      "metadata": {
        "colab": {
          "base_uri": "https://localhost:8080/"
        },
        "id": "RQ9RkH0YdHqD",
        "outputId": "d021a5e8-8001-4637-f6dc-6bb7097d6c0a"
      },
      "execution_count": null,
      "outputs": [
        {
          "output_type": "execute_result",
          "data": {
            "text/plain": [
              "8509.91"
            ]
          },
          "metadata": {},
          "execution_count": 11
        }
      ]
    },
    {
      "cell_type": "markdown",
      "source": [
        "### **Gerando gráficos com dados da planilha**\n",
        "\n",
        "Depois que conseguimos carregar, ver dados tabulares, e manipular os dados de nossa planilha, podemos avançar um pouco mais, e gerar visualizações gráficas.\n",
        "\n",
        "Existem muitas bibliotecas de Python criadas especificamente para visualizações, com alto poder gráfico, capazes de gerar visualizações incríveis, completas e complexas.\n",
        "\n",
        "Mas isso não significa que gerar visualizações informativas precisa ser difícil. O próprio Pandas facilita muito a nossa vida, criando visualizações de forma, simples, prática, fácil e eficaz.\n",
        "\n",
        "O Pandas já vem com uma infinidade de coisas implementada, inclusive capacidade de plotar gráficos.\n",
        "\n",
        "Primeiro, vamos criar uma nova variável (vendas) e associá-la à planilha da aba Vendas."
      ],
      "metadata": {
        "id": "6unQkErJhgSM"
      }
    },
    {
      "cell_type": "code",
      "source": [
        "# criar uma nova variável (pense como um atalho)\n",
        "vendas = planilha['Vendas']"
      ],
      "metadata": {
        "id": "xnQRS1gJiP9v"
      },
      "execution_count": null,
      "outputs": []
    },
    {
      "cell_type": "code",
      "source": [
        "# visualização da variável\n",
        "vendas"
      ],
      "metadata": {
        "colab": {
          "base_uri": "https://localhost:8080/",
          "height": 424
        },
        "id": "z1eIfHrZi2se",
        "outputId": "ce5e1c63-78c5-4de7-e7a8-ebbbd7c10dc1"
      },
      "execution_count": null,
      "outputs": [
        {
          "output_type": "execute_result",
          "data": {
            "text/plain": [
              "   Data da Venda                 Item  Quantidade  Vendedor  Preço Unitário  \\\n",
              "0     2020-01-02     Lente 50mm f/1.4           2    Carlos            1649   \n",
              "1     2020-01-02     Filtro ND 5 Stop           2    Raquel            1220   \n",
              "2     2020-01-03     Filtro ND 5 Stop           2    Raquel            1220   \n",
              "3     2020-01-03  Lente 16-35mm f/2.8           2    Carlos            8997   \n",
              "4     2020-01-04  Lente 16-35mm f/2.8           2  Fernanda            8997   \n",
              "..           ...                  ...         ...       ...             ...   \n",
              "85    2020-01-29     Filtro ND 5 Stop           2      Theo            1220   \n",
              "86    2020-01-29  Lente 16-35mm f/2.8           2      Theo            8997   \n",
              "87    2020-01-29     Filtro ND 2 Stop           1  Fernanda            1220   \n",
              "88    2020-01-30     Filtro ND 3 Stop           2  Fernanda            1220   \n",
              "89    2020-01-30     Filtro ND 5 Stop           2    Raquel            1220   \n",
              "\n",
              "    Total de Vendas  \n",
              "0              3298  \n",
              "1              2440  \n",
              "2              2440  \n",
              "3             17994  \n",
              "4             17994  \n",
              "..              ...  \n",
              "85             2440  \n",
              "86            17994  \n",
              "87             1220  \n",
              "88             2440  \n",
              "89             2440  \n",
              "\n",
              "[90 rows x 6 columns]"
            ],
            "text/html": [
              "\n",
              "  <div id=\"df-96cd7197-b239-4557-85d7-2d88b6b6a150\">\n",
              "    <div class=\"colab-df-container\">\n",
              "      <div>\n",
              "<style scoped>\n",
              "    .dataframe tbody tr th:only-of-type {\n",
              "        vertical-align: middle;\n",
              "    }\n",
              "\n",
              "    .dataframe tbody tr th {\n",
              "        vertical-align: top;\n",
              "    }\n",
              "\n",
              "    .dataframe thead th {\n",
              "        text-align: right;\n",
              "    }\n",
              "</style>\n",
              "<table border=\"1\" class=\"dataframe\">\n",
              "  <thead>\n",
              "    <tr style=\"text-align: right;\">\n",
              "      <th></th>\n",
              "      <th>Data da Venda</th>\n",
              "      <th>Item</th>\n",
              "      <th>Quantidade</th>\n",
              "      <th>Vendedor</th>\n",
              "      <th>Preço Unitário</th>\n",
              "      <th>Total de Vendas</th>\n",
              "    </tr>\n",
              "  </thead>\n",
              "  <tbody>\n",
              "    <tr>\n",
              "      <th>0</th>\n",
              "      <td>2020-01-02</td>\n",
              "      <td>Lente 50mm f/1.4</td>\n",
              "      <td>2</td>\n",
              "      <td>Carlos</td>\n",
              "      <td>1649</td>\n",
              "      <td>3298</td>\n",
              "    </tr>\n",
              "    <tr>\n",
              "      <th>1</th>\n",
              "      <td>2020-01-02</td>\n",
              "      <td>Filtro ND 5 Stop</td>\n",
              "      <td>2</td>\n",
              "      <td>Raquel</td>\n",
              "      <td>1220</td>\n",
              "      <td>2440</td>\n",
              "    </tr>\n",
              "    <tr>\n",
              "      <th>2</th>\n",
              "      <td>2020-01-03</td>\n",
              "      <td>Filtro ND 5 Stop</td>\n",
              "      <td>2</td>\n",
              "      <td>Raquel</td>\n",
              "      <td>1220</td>\n",
              "      <td>2440</td>\n",
              "    </tr>\n",
              "    <tr>\n",
              "      <th>3</th>\n",
              "      <td>2020-01-03</td>\n",
              "      <td>Lente 16-35mm f/2.8</td>\n",
              "      <td>2</td>\n",
              "      <td>Carlos</td>\n",
              "      <td>8997</td>\n",
              "      <td>17994</td>\n",
              "    </tr>\n",
              "    <tr>\n",
              "      <th>4</th>\n",
              "      <td>2020-01-04</td>\n",
              "      <td>Lente 16-35mm f/2.8</td>\n",
              "      <td>2</td>\n",
              "      <td>Fernanda</td>\n",
              "      <td>8997</td>\n",
              "      <td>17994</td>\n",
              "    </tr>\n",
              "    <tr>\n",
              "      <th>...</th>\n",
              "      <td>...</td>\n",
              "      <td>...</td>\n",
              "      <td>...</td>\n",
              "      <td>...</td>\n",
              "      <td>...</td>\n",
              "      <td>...</td>\n",
              "    </tr>\n",
              "    <tr>\n",
              "      <th>85</th>\n",
              "      <td>2020-01-29</td>\n",
              "      <td>Filtro ND 5 Stop</td>\n",
              "      <td>2</td>\n",
              "      <td>Theo</td>\n",
              "      <td>1220</td>\n",
              "      <td>2440</td>\n",
              "    </tr>\n",
              "    <tr>\n",
              "      <th>86</th>\n",
              "      <td>2020-01-29</td>\n",
              "      <td>Lente 16-35mm f/2.8</td>\n",
              "      <td>2</td>\n",
              "      <td>Theo</td>\n",
              "      <td>8997</td>\n",
              "      <td>17994</td>\n",
              "    </tr>\n",
              "    <tr>\n",
              "      <th>87</th>\n",
              "      <td>2020-01-29</td>\n",
              "      <td>Filtro ND 2 Stop</td>\n",
              "      <td>1</td>\n",
              "      <td>Fernanda</td>\n",
              "      <td>1220</td>\n",
              "      <td>1220</td>\n",
              "    </tr>\n",
              "    <tr>\n",
              "      <th>88</th>\n",
              "      <td>2020-01-30</td>\n",
              "      <td>Filtro ND 3 Stop</td>\n",
              "      <td>2</td>\n",
              "      <td>Fernanda</td>\n",
              "      <td>1220</td>\n",
              "      <td>2440</td>\n",
              "    </tr>\n",
              "    <tr>\n",
              "      <th>89</th>\n",
              "      <td>2020-01-30</td>\n",
              "      <td>Filtro ND 5 Stop</td>\n",
              "      <td>2</td>\n",
              "      <td>Raquel</td>\n",
              "      <td>1220</td>\n",
              "      <td>2440</td>\n",
              "    </tr>\n",
              "  </tbody>\n",
              "</table>\n",
              "<p>90 rows × 6 columns</p>\n",
              "</div>\n",
              "      <button class=\"colab-df-convert\" onclick=\"convertToInteractive('df-96cd7197-b239-4557-85d7-2d88b6b6a150')\"\n",
              "              title=\"Convert this dataframe to an interactive table.\"\n",
              "              style=\"display:none;\">\n",
              "        \n",
              "  <svg xmlns=\"http://www.w3.org/2000/svg\" height=\"24px\"viewBox=\"0 0 24 24\"\n",
              "       width=\"24px\">\n",
              "    <path d=\"M0 0h24v24H0V0z\" fill=\"none\"/>\n",
              "    <path d=\"M18.56 5.44l.94 2.06.94-2.06 2.06-.94-2.06-.94-.94-2.06-.94 2.06-2.06.94zm-11 1L8.5 8.5l.94-2.06 2.06-.94-2.06-.94L8.5 2.5l-.94 2.06-2.06.94zm10 10l.94 2.06.94-2.06 2.06-.94-2.06-.94-.94-2.06-.94 2.06-2.06.94z\"/><path d=\"M17.41 7.96l-1.37-1.37c-.4-.4-.92-.59-1.43-.59-.52 0-1.04.2-1.43.59L10.3 9.45l-7.72 7.72c-.78.78-.78 2.05 0 2.83L4 21.41c.39.39.9.59 1.41.59.51 0 1.02-.2 1.41-.59l7.78-7.78 2.81-2.81c.8-.78.8-2.07 0-2.86zM5.41 20L4 18.59l7.72-7.72 1.47 1.35L5.41 20z\"/>\n",
              "  </svg>\n",
              "      </button>\n",
              "      \n",
              "  <style>\n",
              "    .colab-df-container {\n",
              "      display:flex;\n",
              "      flex-wrap:wrap;\n",
              "      gap: 12px;\n",
              "    }\n",
              "\n",
              "    .colab-df-convert {\n",
              "      background-color: #E8F0FE;\n",
              "      border: none;\n",
              "      border-radius: 50%;\n",
              "      cursor: pointer;\n",
              "      display: none;\n",
              "      fill: #1967D2;\n",
              "      height: 32px;\n",
              "      padding: 0 0 0 0;\n",
              "      width: 32px;\n",
              "    }\n",
              "\n",
              "    .colab-df-convert:hover {\n",
              "      background-color: #E2EBFA;\n",
              "      box-shadow: 0px 1px 2px rgba(60, 64, 67, 0.3), 0px 1px 3px 1px rgba(60, 64, 67, 0.15);\n",
              "      fill: #174EA6;\n",
              "    }\n",
              "\n",
              "    [theme=dark] .colab-df-convert {\n",
              "      background-color: #3B4455;\n",
              "      fill: #D2E3FC;\n",
              "    }\n",
              "\n",
              "    [theme=dark] .colab-df-convert:hover {\n",
              "      background-color: #434B5C;\n",
              "      box-shadow: 0px 1px 3px 1px rgba(0, 0, 0, 0.15);\n",
              "      filter: drop-shadow(0px 1px 2px rgba(0, 0, 0, 0.3));\n",
              "      fill: #FFFFFF;\n",
              "    }\n",
              "  </style>\n",
              "\n",
              "      <script>\n",
              "        const buttonEl =\n",
              "          document.querySelector('#df-96cd7197-b239-4557-85d7-2d88b6b6a150 button.colab-df-convert');\n",
              "        buttonEl.style.display =\n",
              "          google.colab.kernel.accessAllowed ? 'block' : 'none';\n",
              "\n",
              "        async function convertToInteractive(key) {\n",
              "          const element = document.querySelector('#df-96cd7197-b239-4557-85d7-2d88b6b6a150');\n",
              "          const dataTable =\n",
              "            await google.colab.kernel.invokeFunction('convertToInteractive',\n",
              "                                                     [key], {});\n",
              "          if (!dataTable) return;\n",
              "\n",
              "          const docLinkHtml = 'Like what you see? Visit the ' +\n",
              "            '<a target=\"_blank\" href=https://colab.research.google.com/notebooks/data_table.ipynb>data table notebook</a>'\n",
              "            + ' to learn more about interactive tables.';\n",
              "          element.innerHTML = '';\n",
              "          dataTable['output_type'] = 'display_data';\n",
              "          await google.colab.output.renderOutput(dataTable, element);\n",
              "          const docLink = document.createElement('div');\n",
              "          docLink.innerHTML = docLinkHtml;\n",
              "          element.appendChild(docLink);\n",
              "        }\n",
              "      </script>\n",
              "    </div>\n",
              "  </div>\n",
              "  "
            ]
          },
          "metadata": {},
          "execution_count": 14
        }
      ]
    },
    {
      "cell_type": "markdown",
      "source": [
        "Agora, vamos acessar uma coluna. Para selecionar colunas, continuaremos fazendo da mesma forma que fizemos anteriormente."
      ],
      "metadata": {
        "id": "czVehJIAjRn5"
      }
    },
    {
      "cell_type": "code",
      "source": [
        "# selecionando uma coluna\n",
        "vendas[\"Total de Vendas\"]"
      ],
      "metadata": {
        "colab": {
          "base_uri": "https://localhost:8080/"
        },
        "id": "7HxuipUUjTmF",
        "outputId": "7a80d066-64e3-4591-a772-7d68aa45f91d"
      },
      "execution_count": null,
      "outputs": [
        {
          "output_type": "execute_result",
          "data": {
            "text/plain": [
              "0      3298\n",
              "1      2440\n",
              "2      2440\n",
              "3     17994\n",
              "4     17994\n",
              "      ...  \n",
              "85     2440\n",
              "86    17994\n",
              "87     1220\n",
              "88     2440\n",
              "89     2440\n",
              "Name: Total de Vendas, Length: 90, dtype: int64"
            ]
          },
          "metadata": {},
          "execution_count": 15
        }
      ]
    },
    {
      "cell_type": "markdown",
      "source": [
        "A partir daqui, com as informações que dispomos, é possível plotar facilmente um **Gráfico de Linhas** que demonstre o total de vendas em um determinado período de tempo.\n",
        "\n",
        "O gráfico de linhas é usado para demonstrar uma sequencia numérica de um certo dado ao longo do tempo. É indicado para demonstrar evoluções ou regressões que ocorrem em uma sequencia para que o comportamento dos fenômenos e suas tendências sejam observados.\n",
        "\n",
        "No eixo X (horizontal) temos a data, e no eixo Y (vertical) o total de vendas.\n",
        "\n",
        "Vemos então que com apenas um linha de código é possível criar um gráfico com pandas no Python. Os parâmetros de legenda, grade, cores e título, são opcionais"
      ],
      "metadata": {
        "id": "w-J8XfEHj-L3"
      }
    },
    {
      "cell_type": "code",
      "source": [
        "# plotando gráfico de linhas\n",
        "vendas.plot(\"Data da Venda\", \"Total de Vendas\", color='#0037a8', legend=False, title=\"Total de Vendas\");"
      ],
      "metadata": {
        "colab": {
          "base_uri": "https://localhost:8080/",
          "height": 301
        },
        "id": "p6FrPl_hm_bM",
        "outputId": "77a3a770-fb52-476b-f163-5c085746934f"
      },
      "execution_count": null,
      "outputs": [
        {
          "output_type": "display_data",
          "data": {
            "text/plain": [
              "<Figure size 432x288 with 1 Axes>"
            ],
            "image/png": "[encoded data removed]"
          },
          "metadata": {
            "needs_background": "light"
          }
        }
      ]
    },
    {
      "cell_type": "markdown",
      "source": [
        "Outra visualização bastante útil e informativa são os [Histogramas](https://pt.khanacademy.org/math/pt-8-ano/probabilidade-e-estatistica-8ano/graficos/a/histograma-grafico-de-barra). O Histograma é uma ferramenta estatística que nos ajuda a verificar a distribuição dos dados. Em termos simples, em determinados intervalos, temos *bins*, ou caixas, que recebem dados que estão dentro daquele intervalo. \n",
        "\n",
        "É importante não confundir essa visualização com gráficos de barras, pois são usados com objetivos diferentes. Você pode clicar [aqui](https://pt.khanacademy.org/math/pt-8-ano/probabilidade-e-estatistica-8ano/graficos/a/histograma-grafico-de-barra) caso queira se aprofundar nessas visualizações.\n",
        "\n",
        "De qualquer forma, plotar um histograma para ver quanto as pessoas costumam gastar, em sua maioria, por exemplo, é muito simples. Novamente, os parâmetros de tamanho da figura, grade e cores são opcionais."
      ],
      "metadata": {
        "id": "DTJ-XSY0o_sE"
      }
    },
    {
      "cell_type": "code",
      "source": [
        "# plotando histograma\n",
        "vendas.hist(\"Total de Vendas\", figsize=(6, 4), grid=False, color='#0037a8');"
      ],
      "metadata": {
        "colab": {
          "base_uri": "https://localhost:8080/",
          "height": 281
        },
        "id": "eNjB9cBWpOEp",
        "outputId": "cdf21b91-5832-4989-b38e-7181f8269d84"
      },
      "execution_count": null,
      "outputs": [
        {
          "output_type": "display_data",
          "data": {
            "text/plain": [
              "<Figure size 432x288 with 1 Axes>"
            ],
            "image/png": "[encoded data removed]"
          },
          "metadata": {
            "needs_background": "light"
          }
        }
      ]
    },
    {
      "cell_type": "markdown",
      "source": [
        "### **Algumas manipulações de datas**"
      ],
      "metadata": {
        "id": "L6kl9mpAqGji"
      }
    },
    {
      "cell_type": "markdown",
      "source": [
        "O Python com Pandas também nos possibilita a manipulação de dados organizados cronologicamente. \n",
        "\n",
        "Esse é um exemplo pra mostrar as possibilidades que temos com Python em relação às datas, e como trabalhar com datas em Python pode ser muito mais fácil do que lidar com Excel."
      ],
      "metadata": {
        "id": "k-NAR8ijqPZ9"
      }
    },
    {
      "cell_type": "markdown",
      "source": [
        "Ao manipular datas com Python, podemos, por exemplo, plotar um histograma para analisarmos a distribuição das vendas por dia da semana."
      ],
      "metadata": {
        "id": "0keUG5PFqWK_"
      }
    },
    {
      "cell_type": "code",
      "source": [
        "# lendo a variável vendas\n",
        "vendas"
      ],
      "metadata": {
        "colab": {
          "base_uri": "https://localhost:8080/",
          "height": 424
        },
        "id": "fnc3B_PBqibZ",
        "outputId": "51edf628-0571-45c9-c988-82e5011fcde4"
      },
      "execution_count": null,
      "outputs": [
        {
          "output_type": "execute_result",
          "data": {
            "text/plain": [
              "   Data da Venda                 Item  Quantidade  Vendedor  Preço Unitário  \\\n",
              "0     2020-01-02     Lente 50mm f/1.4           2    Carlos            1649   \n",
              "1     2020-01-02     Filtro ND 5 Stop           2    Raquel            1220   \n",
              "2     2020-01-03     Filtro ND 5 Stop           2    Raquel            1220   \n",
              "3     2020-01-03  Lente 16-35mm f/2.8           2    Carlos            8997   \n",
              "4     2020-01-04  Lente 16-35mm f/2.8           2  Fernanda            8997   \n",
              "..           ...                  ...         ...       ...             ...   \n",
              "85    2020-01-29     Filtro ND 5 Stop           2      Theo            1220   \n",
              "86    2020-01-29  Lente 16-35mm f/2.8           2      Theo            8997   \n",
              "87    2020-01-29     Filtro ND 2 Stop           1  Fernanda            1220   \n",
              "88    2020-01-30     Filtro ND 3 Stop           2  Fernanda            1220   \n",
              "89    2020-01-30     Filtro ND 5 Stop           2    Raquel            1220   \n",
              "\n",
              "    Total de Vendas  \n",
              "0              3298  \n",
              "1              2440  \n",
              "2              2440  \n",
              "3             17994  \n",
              "4             17994  \n",
              "..              ...  \n",
              "85             2440  \n",
              "86            17994  \n",
              "87             1220  \n",
              "88             2440  \n",
              "89             2440  \n",
              "\n",
              "[90 rows x 6 columns]"
            ],
            "text/html": [
              "\n",
              "  <div id=\"df-e15b0da9-69b6-4b43-8ff9-4de47b2960fa\">\n",
              "    <div class=\"colab-df-container\">\n",
              "      <div>\n",
              "<style scoped>\n",
              "    .dataframe tbody tr th:only-of-type {\n",
              "        vertical-align: middle;\n",
              "    }\n",
              "\n",
              "    .dataframe tbody tr th {\n",
              "        vertical-align: top;\n",
              "    }\n",
              "\n",
              "    .dataframe thead th {\n",
              "        text-align: right;\n",
              "    }\n",
              "</style>\n",
              "<table border=\"1\" class=\"dataframe\">\n",
              "  <thead>\n",
              "    <tr style=\"text-align: right;\">\n",
              "      <th></th>\n",
              "      <th>Data da Venda</th>\n",
              "      <th>Item</th>\n",
              "      <th>Quantidade</th>\n",
              "      <th>Vendedor</th>\n",
              "      <th>Preço Unitário</th>\n",
              "      <th>Total de Vendas</th>\n",
              "    </tr>\n",
              "  </thead>\n",
              "  <tbody>\n",
              "    <tr>\n",
              "      <th>0</th>\n",
              "      <td>2020-01-02</td>\n",
              "      <td>Lente 50mm f/1.4</td>\n",
              "      <td>2</td>\n",
              "      <td>Carlos</td>\n",
              "      <td>1649</td>\n",
              "      <td>3298</td>\n",
              "    </tr>\n",
              "    <tr>\n",
              "      <th>1</th>\n",
              "      <td>2020-01-02</td>\n",
              "      <td>Filtro ND 5 Stop</td>\n",
              "      <td>2</td>\n",
              "      <td>Raquel</td>\n",
              "      <td>1220</td>\n",
              "      <td>2440</td>\n",
              "    </tr>\n",
              "    <tr>\n",
              "      <th>2</th>\n",
              "      <td>2020-01-03</td>\n",
              "      <td>Filtro ND 5 Stop</td>\n",
              "      <td>2</td>\n",
              "      <td>Raquel</td>\n",
              "      <td>1220</td>\n",
              "      <td>2440</td>\n",
              "    </tr>\n",
              "    <tr>\n",
              "      <th>3</th>\n",
              "      <td>2020-01-03</td>\n",
              "      <td>Lente 16-35mm f/2.8</td>\n",
              "      <td>2</td>\n",
              "      <td>Carlos</td>\n",
              "      <td>8997</td>\n",
              "      <td>17994</td>\n",
              "    </tr>\n",
              "    <tr>\n",
              "      <th>4</th>\n",
              "      <td>2020-01-04</td>\n",
              "      <td>Lente 16-35mm f/2.8</td>\n",
              "      <td>2</td>\n",
              "      <td>Fernanda</td>\n",
              "      <td>8997</td>\n",
              "      <td>17994</td>\n",
              "    </tr>\n",
              "    <tr>\n",
              "      <th>...</th>\n",
              "      <td>...</td>\n",
              "      <td>...</td>\n",
              "      <td>...</td>\n",
              "      <td>...</td>\n",
              "      <td>...</td>\n",
              "      <td>...</td>\n",
              "    </tr>\n",
              "    <tr>\n",
              "      <th>85</th>\n",
              "      <td>2020-01-29</td>\n",
              "      <td>Filtro ND 5 Stop</td>\n",
              "      <td>2</td>\n",
              "      <td>Theo</td>\n",
              "      <td>1220</td>\n",
              "      <td>2440</td>\n",
              "    </tr>\n",
              "    <tr>\n",
              "      <th>86</th>\n",
              "      <td>2020-01-29</td>\n",
              "      <td>Lente 16-35mm f/2.8</td>\n",
              "      <td>2</td>\n",
              "      <td>Theo</td>\n",
              "      <td>8997</td>\n",
              "      <td>17994</td>\n",
              "    </tr>\n",
              "    <tr>\n",
              "      <th>87</th>\n",
              "      <td>2020-01-29</td>\n",
              "      <td>Filtro ND 2 Stop</td>\n",
              "      <td>1</td>\n",
              "      <td>Fernanda</td>\n",
              "      <td>1220</td>\n",
              "      <td>1220</td>\n",
              "    </tr>\n",
              "    <tr>\n",
              "      <th>88</th>\n",
              "      <td>2020-01-30</td>\n",
              "      <td>Filtro ND 3 Stop</td>\n",
              "      <td>2</td>\n",
              "      <td>Fernanda</td>\n",
              "      <td>1220</td>\n",
              "      <td>2440</td>\n",
              "    </tr>\n",
              "    <tr>\n",
              "      <th>89</th>\n",
              "      <td>2020-01-30</td>\n",
              "      <td>Filtro ND 5 Stop</td>\n",
              "      <td>2</td>\n",
              "      <td>Raquel</td>\n",
              "      <td>1220</td>\n",
              "      <td>2440</td>\n",
              "    </tr>\n",
              "  </tbody>\n",
              "</table>\n",
              "<p>90 rows × 6 columns</p>\n",
              "</div>\n",
              "      <button class=\"colab-df-convert\" onclick=\"convertToInteractive('df-e15b0da9-69b6-4b43-8ff9-4de47b2960fa')\"\n",
              "              title=\"Convert this dataframe to an interactive table.\"\n",
              "              style=\"display:none;\">\n",
              "        \n",
              "  <svg xmlns=\"http://www.w3.org/2000/svg\" height=\"24px\"viewBox=\"0 0 24 24\"\n",
              "       width=\"24px\">\n",
              "    <path d=\"M0 0h24v24H0V0z\" fill=\"none\"/>\n",
              "    <path d=\"M18.56 5.44l.94 2.06.94-2.06 2.06-.94-2.06-.94-.94-2.06-.94 2.06-2.06.94zm-11 1L8.5 8.5l.94-2.06 2.06-.94-2.06-.94L8.5 2.5l-.94 2.06-2.06.94zm10 10l.94 2.06.94-2.06 2.06-.94-2.06-.94-.94-2.06-.94 2.06-2.06.94z\"/><path d=\"M17.41 7.96l-1.37-1.37c-.4-.4-.92-.59-1.43-.59-.52 0-1.04.2-1.43.59L10.3 9.45l-7.72 7.72c-.78.78-.78 2.05 0 2.83L4 21.41c.39.39.9.59 1.41.59.51 0 1.02-.2 1.41-.59l7.78-7.78 2.81-2.81c.8-.78.8-2.07 0-2.86zM5.41 20L4 18.59l7.72-7.72 1.47 1.35L5.41 20z\"/>\n",
              "  </svg>\n",
              "      </button>\n",
              "      \n",
              "  <style>\n",
              "    .colab-df-container {\n",
              "      display:flex;\n",
              "      flex-wrap:wrap;\n",
              "      gap: 12px;\n",
              "    }\n",
              "\n",
              "    .colab-df-convert {\n",
              "      background-color: #E8F0FE;\n",
              "      border: none;\n",
              "      border-radius: 50%;\n",
              "      cursor: pointer;\n",
              "      display: none;\n",
              "      fill: #1967D2;\n",
              "      height: 32px;\n",
              "      padding: 0 0 0 0;\n",
              "      width: 32px;\n",
              "    }\n",
              "\n",
              "    .colab-df-convert:hover {\n",
              "      background-color: #E2EBFA;\n",
              "      box-shadow: 0px 1px 2px rgba(60, 64, 67, 0.3), 0px 1px 3px 1px rgba(60, 64, 67, 0.15);\n",
              "      fill: #174EA6;\n",
              "    }\n",
              "\n",
              "    [theme=dark] .colab-df-convert {\n",
              "      background-color: #3B4455;\n",
              "      fill: #D2E3FC;\n",
              "    }\n",
              "\n",
              "    [theme=dark] .colab-df-convert:hover {\n",
              "      background-color: #434B5C;\n",
              "      box-shadow: 0px 1px 3px 1px rgba(0, 0, 0, 0.15);\n",
              "      filter: drop-shadow(0px 1px 2px rgba(0, 0, 0, 0.3));\n",
              "      fill: #FFFFFF;\n",
              "    }\n",
              "  </style>\n",
              "\n",
              "      <script>\n",
              "        const buttonEl =\n",
              "          document.querySelector('#df-e15b0da9-69b6-4b43-8ff9-4de47b2960fa button.colab-df-convert');\n",
              "        buttonEl.style.display =\n",
              "          google.colab.kernel.accessAllowed ? 'block' : 'none';\n",
              "\n",
              "        async function convertToInteractive(key) {\n",
              "          const element = document.querySelector('#df-e15b0da9-69b6-4b43-8ff9-4de47b2960fa');\n",
              "          const dataTable =\n",
              "            await google.colab.kernel.invokeFunction('convertToInteractive',\n",
              "                                                     [key], {});\n",
              "          if (!dataTable) return;\n",
              "\n",
              "          const docLinkHtml = 'Like what you see? Visit the ' +\n",
              "            '<a target=\"_blank\" href=https://colab.research.google.com/notebooks/data_table.ipynb>data table notebook</a>'\n",
              "            + ' to learn more about interactive tables.';\n",
              "          element.innerHTML = '';\n",
              "          dataTable['output_type'] = 'display_data';\n",
              "          await google.colab.output.renderOutput(dataTable, element);\n",
              "          const docLink = document.createElement('div');\n",
              "          docLink.innerHTML = docLinkHtml;\n",
              "          element.appendChild(docLink);\n",
              "        }\n",
              "      </script>\n",
              "    </div>\n",
              "  </div>\n",
              "  "
            ]
          },
          "metadata": {},
          "execution_count": 31
        }
      ]
    },
    {
      "cell_type": "markdown",
      "source": [
        "Ao analisar essa tabela, vamos ver que temos uma coluna com a data que uma determinada venda aconteceu. E queremos saber qual dia da semana que ocorreu mais vendas. Como fazemos isso no Python?\n",
        "\n",
        "No Python analisar eventos temporais é muito fácil. Primeira coisa a fazer nesse caso, é pegar a coluna Data da Venda, ao selecioná-la, vemos que ela está no formato *datetime*, que nos permite fazer algumas transformações, como por exemplo, converter as datas em dias da semana.\n",
        "\n",
        "Para fazer isso, temos uma maneira de aplicar uma função (*apply*) a toda essa coluna para cada elemento, usando  uma função `lambda: x`. Basicamente vamos dizer ao Python para pegar cada elemento `x` e acessar `weekday` (o dia da semana).\n",
        "\n",
        "A função [`weekday()`](https://pythontic.com/datetime/date/weekday) da classe *date* no módulo *datetime* retorna um número inteiro correspondente ao dia da semana. Em que o valor inicial 0 corresponde a segunda-feira e o último valor 6, ao domingo.\n",
        "\n",
        "Porém, também é possível visualizar diretamente o nome do dia da semana no plot, utilizando a função `day_name()`.\n",
        "\n",
        "Assim, quando aplicamos essa função `lambda`, seja com `.weekday()` ou `.day_name()`, isso nos permite uma visualização das vendas de acordo com o dia da semana."
      ],
      "metadata": {
        "id": "O-h-WS7gT31z"
      }
    },
    {
      "cell_type": "code",
      "source": [
        "# verificando a coluna Data da Venda\n",
        "vendas[\"Data da Venda\"]"
      ],
      "metadata": {
        "colab": {
          "base_uri": "https://localhost:8080/"
        },
        "id": "c5GnX5zyqm2d",
        "outputId": "25462be3-5a7d-4305-ab8e-2de870ad94e0"
      },
      "execution_count": null,
      "outputs": [
        {
          "output_type": "execute_result",
          "data": {
            "text/plain": [
              "0    2020-01-02\n",
              "1    2020-01-02\n",
              "2    2020-01-03\n",
              "3    2020-01-03\n",
              "4    2020-01-04\n",
              "        ...    \n",
              "85   2020-01-29\n",
              "86   2020-01-29\n",
              "87   2020-01-29\n",
              "88   2020-01-30\n",
              "89   2020-01-30\n",
              "Name: Data da Venda, Length: 90, dtype: datetime64[ns]"
            ]
          },
          "metadata": {},
          "execution_count": 32
        }
      ]
    },
    {
      "cell_type": "code",
      "source": [
        "# visualizando as vendas por dia da semana\n",
        "vendas[\"Data da Venda\"].apply(lambda x: x.weekday())\n",
        "#vendas[\"Data da Venda\"].apply(lambda x: x.day_name())\n"
      ],
      "metadata": {
        "colab": {
          "base_uri": "https://localhost:8080/"
        },
        "id": "UEvzT3zWJpjc",
        "outputId": "242dddc8-d39c-44f6-d7b3-9e1df2eef129"
      },
      "execution_count": null,
      "outputs": [
        {
          "output_type": "execute_result",
          "data": {
            "text/plain": [
              "0     3\n",
              "1     3\n",
              "2     4\n",
              "3     4\n",
              "4     5\n",
              "     ..\n",
              "85    2\n",
              "86    2\n",
              "87    2\n",
              "88    3\n",
              "89    3\n",
              "Name: Data da Venda, Length: 90, dtype: int64"
            ]
          },
          "metadata": {},
          "execution_count": 82
        }
      ]
    },
    {
      "cell_type": "code",
      "source": [
        "# visualizando histograma de vendas por dia da semana\n",
        "vendas[\"Data da Venda\"].apply(lambda x: x.weekday()).hist(bins=7, figsize=(6, 4), grid=False, color='#0037a8');"
      ],
      "metadata": {
        "colab": {
          "base_uri": "https://localhost:8080/",
          "height": 265
        },
        "id": "gvi_HwvXqs_u",
        "outputId": "676037ff-4d7d-46b8-b1fe-6c672da200b4"
      },
      "execution_count": null,
      "outputs": [
        {
          "output_type": "display_data",
          "data": {
            "text/plain": [
              "<Figure size 432x288 with 1 Axes>"
            ],
            "image/png": "[encoded data removed]"
          },
          "metadata": {
            "needs_background": "light"
          }
        }
      ]
    },
    {
      "cell_type": "code",
      "source": [
        "# visualizando histograma de vendas por dia da semana\n",
        "vendas[\"Data da Venda\"].apply(lambda x: x.day_name()).hist(bins=7, figsize=(6, 4), grid=False, color='#0037a8');"
      ],
      "metadata": {
        "colab": {
          "base_uri": "https://localhost:8080/",
          "height": 265
        },
        "id": "c4rvu8fkZ4dN",
        "outputId": "73815a0c-191f-4c92-fc1a-e91520cb2653"
      },
      "execution_count": null,
      "outputs": [
        {
          "output_type": "display_data",
          "data": {
            "text/plain": [
              "<Figure size 432x288 with 1 Axes>"
            ],
            "image/png": "[encoded data removed]"
          },
          "metadata": {
            "needs_background": "light"
          }
        }
      ]
    },
    {
      "cell_type": "markdown",
      "source": [
        "Conforme observamos, os dias da semana que mais ocorreu vendas, são terça e quinta-feira."
      ],
      "metadata": {
        "id": "tnUXRGl7Z_08"
      }
    },
    {
      "cell_type": "markdown",
      "source": [
        "### Conclusão\n",
        "\n",
        "Neste artigo mostramos um pouco da grande capacidade que o pandas tem para auxiliar em nossas análises de dados. Partimos da importação da biblioteca, passando pela simples leitura e manipulação dos dados, até chegarmos à exibição de gráficos, colocando em prática os conhecimentos adquiridos. Assim, espero ter contribuído para o entendimento desta popular ferramenta, além de ajudar em nossas rotinas diárias com Python."
      ],
      "metadata": {
        "id": "U8FbBwwey3wE"
      }
    }
  ]
}